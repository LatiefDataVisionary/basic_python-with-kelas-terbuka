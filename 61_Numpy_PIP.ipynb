{
 "cells": [
  {
   "cell_type": "code",
   "execution_count": 10,
   "id": "81626cf2",
   "metadata": {},
   "outputs": [
    {
     "name": "stdout",
     "output_type": "stream",
     "text": [
      "List a = [1, 2, 3, 4]\n",
      "Vector a = [1 2 3 4]\n",
      "Vector a pangkat 2 : [ 1  4  9 16]\n",
      "Vector a kali 5 : [ 5 10 15 20]\n",
      "Liat a kali 2 : [1, 2, 3, 4, 1, 2, 3, 4]\n"
     ]
    }
   ],
   "source": [
    "import numpy as np \n",
    "\n",
    "list_a = [1,2,3,4]\n",
    "vector_a = np.array([1,2,3,4])\n",
    "\n",
    "# print(numpy)\n",
    "# print()\n",
    "print(f\"List a = {list_a}\")\n",
    "# print(list_a**2)    # maka akan error(gagal)\n",
    "print(f\"Vector a = {vector_a}\")\n",
    "print(f\"Vector a pangkat 2 : {vector_a**2}\")\n",
    "print(f\"Vector a kali 5 : {vector_a*5}\")\n",
    "print(f\"List a kali 2 : {list_a*2}\")"
   ]
  },
  {
   "cell_type": "code",
   "execution_count": 15,
   "id": "a98e96d5",
   "metadata": {},
   "outputs": [
    {
     "name": "stdout",
     "output_type": "stream",
     "text": [
      "Matriks b : \n",
      "[[1 2]\n",
      " [3 4]]\n",
      "\n",
      "Matriks b^2 : \n",
      "[[ 1  4]\n",
      " [ 9 16]]\n"
     ]
    }
   ],
   "source": [
    "matrix_b = np.array([(1,2),(3,4)])\n",
    "print(f\"Matriks b : \\n{matrix_b}\\n\")\n",
    "print(f\"Matriks b^2 : \\n{matrix_b**2}\")"
   ]
  },
  {
   "cell_type": "code",
   "execution_count": 17,
   "id": "34825c7f",
   "metadata": {},
   "outputs": [
    {
     "name": "stdout",
     "output_type": "stream",
     "text": [
      "Zeros c = \n",
      "[[0. 0.]\n",
      " [0. 0.]]\n"
     ]
    }
   ],
   "source": [
    "## Matrix kosong/0\n",
    "zeros_c = np.zeros((2,2))  # Berbentuk Tupple\n",
    "print(f\"Zeros c = \\n{zeros_c}\")"
   ]
  },
  {
   "cell_type": "code",
   "execution_count": 18,
   "id": "d12f1842",
   "metadata": {},
   "outputs": [
    {
     "name": "stdout",
     "output_type": "stream",
     "text": [
      "Ones d = \n",
      "[[1. 1.]\n",
      " [1. 1.]]\n"
     ]
    }
   ],
   "source": [
    "## Matrix satu/1\n",
    "ones_d = np.ones((2,2))  # Berbentuk Tupple\n",
    "print(f\"Ones d = \\n{ones_d}\")"
   ]
  },
  {
   "cell_type": "code",
   "execution_count": 20,
   "id": "2c99b65d",
   "metadata": {},
   "outputs": [
    {
     "name": "stdout",
     "output_type": "stream",
     "text": [
      "Jumlah = \n",
      "[[ 3.  7.]\n",
      " [13. 21.]]\n"
     ]
    }
   ],
   "source": [
    "jumlah = matrix_b + matrix_b**2 + ones_d\n",
    "print(f\"Jumlah = \\n{jumlah}\")"
   ]
  },
  {
   "cell_type": "code",
   "execution_count": 21,
   "id": "2b02f94e",
   "metadata": {
    "scrolled": true
   },
   "outputs": [
    {
     "ename": "ModuleNotFoundError",
     "evalue": "No module named 'pygame'",
     "output_type": "error",
     "traceback": [
      "\u001b[1;31m---------------------------------------------------------------------------\u001b[0m",
      "\u001b[1;31mModuleNotFoundError\u001b[0m                       Traceback (most recent call last)",
      "Cell \u001b[1;32mIn[21], line 1\u001b[0m\n\u001b[1;32m----> 1\u001b[0m \u001b[38;5;28;01mimport\u001b[39;00m \u001b[38;5;21;01mpygame\u001b[39;00m \n\u001b[0;32m      3\u001b[0m \u001b[38;5;66;03m# init\u001b[39;00m\n\u001b[0;32m      4\u001b[0m pygame\u001b[38;5;241m.\u001b[39minit()\n",
      "\u001b[1;31mModuleNotFoundError\u001b[0m: No module named 'pygame'"
     ]
    }
   ],
   "source": []
  },
  {
   "cell_type": "code",
   "execution_count": null,
   "id": "90238f95",
   "metadata": {},
   "outputs": [],
   "source": []
  }
 ],
 "metadata": {
  "kernelspec": {
   "display_name": "Python 3 (ipykernel)",
   "language": "python",
   "name": "python3"
  },
  "language_info": {
   "codemirror_mode": {
    "name": "ipython",
    "version": 3
   },
   "file_extension": ".py",
   "mimetype": "text/x-python",
   "name": "python",
   "nbconvert_exporter": "python",
   "pygments_lexer": "ipython3",
   "version": "3.11.7"
  }
 },
 "nbformat": 4,
 "nbformat_minor": 5
}
